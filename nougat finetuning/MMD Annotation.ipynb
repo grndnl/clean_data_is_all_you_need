{
 "cells": [
  {
   "cell_type": "code",
   "execution_count": 2,
   "id": "86ea5309",
   "metadata": {},
   "outputs": [
    {
     "name": "stdout",
     "output_type": "stream",
     "text": [
      "Processing completed. Modified files are saved in the output folder.\n"
     ]
    }
   ],
   "source": [
    "import os\n",
    "\n",
    "# Input and output folder paths\n",
    "input_folder = r'C:\\Users\\Shadow\\Downloads\\dev_mmd'  \n",
    "output_folder = r'C:\\Users\\Shadow\\Downloads\\dev_mmd_annotated'  \n",
    "\n",
    "# Function to add tags based on '#' at the beginning of lines\n",
    "def process_mmd_file(file_path):\n",
    "    with open(file_path, 'r', encoding='utf-8') as file:\n",
    "        lines = file.readlines()\n",
    "\n",
    "    new_lines = []\n",
    "    for line in lines:\n",
    "        if line.startswith('# '):\n",
    "            new_lines.append('json_element: title\\n' + line)\n",
    "        elif line.startswith('#'):\n",
    "            new_lines.append('json_element: title\\n' + line)\n",
    "        elif line.strip() == '':\n",
    "            new_lines.append(line)  # Preserve empty lines\n",
    "        else:\n",
    "            new_lines.append('json_element: text\\n' + line)\n",
    "\n",
    "    return new_lines\n",
    "\n",
    "# Create the output folder if it doesn't exist\n",
    "if not os.path.exists(output_folder):\n",
    "    os.makedirs(output_folder)\n",
    "\n",
    "# Process each MMD file in the input folder and save to the output folder\n",
    "for filename in os.listdir(input_folder):\n",
    "    if filename.endswith('.mmd'):\n",
    "        input_file_path = os.path.join(input_folder, filename)\n",
    "        output_file_path = os.path.join(output_folder, filename)\n",
    "\n",
    "        new_content = process_mmd_file(input_file_path)\n",
    "\n",
    "        with open(output_file_path, 'w', encoding='utf-8') as output_file:\n",
    "            output_file.writelines(new_content)\n",
    "\n",
    "print(\"Processing completed. Modified files are saved in the output folder.\")\n"
   ]
  },
  {
   "cell_type": "code",
   "execution_count": null,
   "id": "f842c966",
   "metadata": {},
   "outputs": [],
   "source": []
  }
 ],
 "metadata": {
  "kernelspec": {
   "display_name": "Python 3 (ipykernel)",
   "language": "python",
   "name": "python3"
  },
  "language_info": {
   "codemirror_mode": {
    "name": "ipython",
    "version": 3
   },
   "file_extension": ".py",
   "mimetype": "text/x-python",
   "name": "python",
   "nbconvert_exporter": "python",
   "pygments_lexer": "ipython3",
   "version": "3.9.13"
  }
 },
 "nbformat": 4,
 "nbformat_minor": 5
}
