{
 "cells": [
  {
   "cell_type": "code",
   "execution_count": 1,
   "metadata": {},
   "outputs": [],
   "source": [
    "import os\n",
    "from os.path import join\n"
   ]
  },
  {
   "cell_type": "code",
   "execution_count": 2,
   "metadata": {},
   "outputs": [],
   "source": [
    "DATA_DIRECTORY = \"/user/w210/clean_data_is_all_you_need/app/data\"\n",
    "\n",
    "S1_INPUT_PDFS_DIR = join(DATA_DIRECTORY, \"s1_input_pdfs\")\n",
    "S2_DLA_INPUTS_DIR = join(DATA_DIRECTORY, \"s2_dla_inputs\")\n",
    "S3_OUTPUTS_DIR = join(DATA_DIRECTORY, \"s3_outputs\")\n",
    "S4_JSON_TEXT_OUTPUTS_DIR = join(DATA_DIRECTORY, \"s4_json_text_output\")\n",
    "PAGE_MASK_DIR = join(S3_OUTPUTS_DIR, \"page_masks\")\n",
    "\n",
    "for pth in [DATA_DIRECTORY, S1_INPUT_PDFS_DIR, S2_DLA_INPUTS_DIR, S3_OUTPUTS_DIR, S4_JSON_TEXT_OUTPUTS_DIR, PAGE_MASK_DIR]:\n",
    "    assert os.path.exists(pth), f\"PATH NOT FOUND: {pth}\""
   ]
  },
  {
   "cell_type": "code",
   "execution_count": null,
   "metadata": {},
   "outputs": [],
   "source": []
  }
 ],
 "metadata": {
  "kernelspec": {
   "display_name": "layoutlmv3",
   "language": "python",
   "name": "python3"
  },
  "language_info": {
   "codemirror_mode": {
    "name": "ipython",
    "version": 3
   },
   "file_extension": ".py",
   "mimetype": "text/x-python",
   "name": "python",
   "nbconvert_exporter": "python",
   "pygments_lexer": "ipython3",
   "version": "3.10.12"
  }
 },
 "nbformat": 4,
 "nbformat_minor": 2
}
