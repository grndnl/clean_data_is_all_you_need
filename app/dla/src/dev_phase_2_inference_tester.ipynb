{
 "cells": [
  {
   "cell_type": "code",
   "execution_count": null,
   "metadata": {},
   "outputs": [],
   "source": [
    "from dla_pipeline_inference_phase_2 import process_documents_phase_2\n",
    "\n",
    "import os\n",
    "from os.path import join"
   ]
  },
  {
   "cell_type": "code",
   "execution_count": null,
   "metadata": {},
   "outputs": [],
   "source": [
    "if not os.path.exists(\"/data\"):\n",
    "    os.symlink(\"/user/w210/clean_data_is_all_you_need/app/data\", \"/data\")\n",
    "\n",
    "DATA_DIRECTORY = \"/data\"\n",
    "\n",
    "PRETRAINED_MODEL_DIR = \"/model_weights/LayoutLMV3/\"\n",
    "MODEL_TAG = \"base-finetuned-doclaynet-sci-large_classification_only\"\n",
    "MODEL_WEIGHTS_PATH = join(PRETRAINED_MODEL_DIR, MODEL_TAG)\n",
    "MODEL_PROCESSOR_PATH = join(\n",
    "    PRETRAINED_MODEL_DIR, \"microsoft-layoutlmv3-base-processor\"\n",
    ")\n",
    "\n",
    "mask_registry, exit_code, LOG_LIST = process_documents_phase_2(\n",
    "    DATA_DIRECTORY,\n",
    "    model_weights_path=MODEL_WEIGHTS_PATH,\n",
    "    model_processor_path=MODEL_PROCESSOR_PATH,\n",
    ")\n",
    "\n",
    "print(f\"EXIT CODE: {exit_code}\")\n",
    "print(LOG_LIST)\n",
    "mask_registry"
   ]
  },
  {
   "cell_type": "code",
   "execution_count": null,
   "metadata": {},
   "outputs": [],
   "source": [
    "LOG_LIST"
   ]
  }
 ],
 "metadata": {
  "kernelspec": {
   "display_name": "layoutlmv3",
   "language": "python",
   "name": "python3"
  },
  "language_info": {
   "codemirror_mode": {
    "name": "ipython",
    "version": 3
   },
   "file_extension": ".py",
   "mimetype": "text/x-python",
   "name": "python",
   "nbconvert_exporter": "python",
   "pygments_lexer": "ipython3",
   "version": "3.8.18"
  }
 },
 "nbformat": 4,
 "nbformat_minor": 2
}
